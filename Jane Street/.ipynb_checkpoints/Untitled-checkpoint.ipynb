{
 "cells": [
  {
   "cell_type": "code",
   "execution_count": 1,
   "metadata": {},
   "outputs": [],
   "source": [
    "import pandas as pd\n",
    "import numpy as np\n",
    "import matplotlib.pyplot as plt\n",
    "import scipy.stats as ss"
   ]
  },
  {
   "cell_type": "code",
   "execution_count": 2,
   "metadata": {},
   "outputs": [],
   "source": [
    "t2 = pd.read_csv('data/train.csv')"
   ]
  },
  {
   "cell_type": "code",
   "execution_count": 3,
   "metadata": {},
   "outputs": [],
   "source": [
    "t = t2.head(100000)\n",
    "features = [x for x in t.columns if (x.find('feature') >= 0)]\n"
   ]
  },
  {
   "cell_type": "code",
   "execution_count": 4,
   "metadata": {},
   "outputs": [],
   "source": [
    "# ss.norm.rvs( loc=0, scale=1, size=(paths,len(t)-1) )[:,0]"
   ]
  },
  {
   "cell_type": "markdown",
   "metadata": {},
   "source": []
  },
  {
   "cell_type": "markdown",
   "metadata": {},
   "source": [
    "Instead of looping through each row maybe use this as a activation funcion?"
   ]
  },
  {
   "cell_type": "code",
   "execution_count": 5,
   "metadata": {},
   "outputs": [],
   "source": [
    "# Create x*w + b\n",
    "class dense_layer():\n",
    "    def __init__(self, n_input, n_neuron):\n",
    "        self.neuron = n_neuron\n",
    "        self.weight = 0.10 * np.zeros((n_input, n_neuron))\n",
    "        self.bias = np.zeros((1, n_neuron))\n",
    "        \n",
    "    def forward(self, inputs):\n",
    "        self.output = np.dot(inputs, self.weight) + self.bias"
   ]
  },
  {
   "cell_type": "code",
   "execution_count": null,
   "metadata": {},
   "outputs": [],
   "source": [
    "class OU_Activation():\n",
    "    def SSR(actual, pred):\n",
    "        ssr = np.sum(actual - pred)**2\n",
    "        return ssr\n",
    "\n",
    "    def ou_process(self, X, paths = 100, date_steps=16, kappa = 5, theta = -0.5, sigma = 0.5):\n",
    "        N = len(X)\n",
    "        self.n = N\n",
    "        T_vec, dt = np.linspace(0, date_steps, N, retstep=True ) # Used for creating values that evenly spaced \n",
    "        \n",
    "        self.t = theta\n",
    "        self.k = kappa\n",
    "        self.s = sigma\n",
    "        self.dt = dt\n",
    "        \n",
    "        std_asy = np.sqrt( sigma**2 /(2*self.k) )   # asymptotic standard deviation\n",
    "        self.W = ss.norm.rvs( loc=0, scale=1, size=(paths,N-1) )\n",
    "\n",
    "\n",
    "        y_pred = []\n",
    "        std_dt = np.sqrt( sigma**2 /(2*self.k) * (1-np.exp(-2*self.k*dt)) )\n",
    "        for t in range(0,N):\n",
    "            p = theta + np.exp(-self.k*dt) * (X[t]-theta) + std_dt * self.W[:,t]\n",
    "            y_pred.append(p)\n",
    "        y_pred = pd.DataFrame(y_pred)\n",
    "\n",
    "        # Finding the minimum SSR\n",
    "#         min_ssr = []\n",
    "#         for i in range(len(y_pred.columns)):\n",
    "#             ssr = SSR(y1, y_pred[i])\n",
    "#             min_ssr.append(ssr)\n",
    "#         min_ssr = pd.DataFrame(min_ssr)\n",
    "#         min_ssr = min_ssr[min_ssr[0] == min_ssr[0].min()]\n",
    "\n",
    "#         y_pred_final = []\n",
    "#         # Filtering to the best fit\n",
    "#         for i in range(0, N-1):\n",
    "#             p = theta + np.exp(-self.k*dt) * (X[i]-theta) + std_dt * self.W[:, min_ssr.index[0]]\n",
    "#             y_pred_final.append(p)\n",
    "#         self.W = self.W[:, min_ssr.index[0]]\n",
    "        \n",
    "        return pd.DataFrame(y_pred)\n",
    "\n",
    "#     def back_SSR(acutal, y_pred):\n",
    "#         dssr = np.sum(-2(actual-pred))\n",
    "#         return dssr\n",
    "\n",
    "#     def backward_ou_process(theta, kappa, sigma):\n",
    "#         ex = np.exp(-kappa*dt)\n",
    "#         diff_ex = 1-ex\n",
    "#         dthet = 1 + ex\n",
    "#         dkappa = -dt * (X-theta) * ex + (W * np.abs(sigma)) * ( ( (2*dt*ex)/X) / (2**(3/2) * np.sqrt(diff_ex/X) ) )\n",
    "#         dsgima = W * np.sqrt(diff_ex / X)\n",
    "        \n",
    "#     def backward_ou_process(kappa, dt):\n",
    "#         dou = np.exp(-kappa * dt)\n",
    "        \n",
    "    \n",
    "    \n",
    "    def backwards(self, weights, a, p, bias, inputs, lr=.01):\n",
    "        dou = np.exp(-self.k * self.dt)\n",
    "        diff_ex = 1-dou\n",
    "        #dW = np.sum(np.sum(-2*( a-p ) ) * np.sqrt( self.s**2 /(2*self.k) * (1-np.exp(-2*self.k*self.dt)) ))\n",
    "        ou_and_bias = np.sum( np.sum(-2*(a-p)) * dou )\n",
    "        dWeights = np.sum( np.sum(-2*(a-p)) * dou * inputs )\n",
    "        \n",
    "#         dK = []\n",
    "#         dS = []\n",
    "\n",
    "        dthet = 1 + dou\n",
    "#         for t in range(self.N):\n",
    "        dkappa = -self.dt * (inputs-self.t) * ex + (self.W * np.abs(self.s)) * ( ( (2*self.dt*ex)/inputs) / (2**(3/2) * np.sqrt(diff_ex/inputs) ) )\n",
    "        dsgima = self.W * np.sqrt(diff_ex / inputs)\n",
    "            \n",
    "#             dK.append(dkappa)\n",
    "#             dS.append(dsigma)\n",
    "        \n",
    "        dWeights = pd.DataFrame(dWeights).reset_index()\n",
    "        dWeights = dWeights[[x for x in dWeights.columns if x != 'index']]\n",
    "        for i in range(1,d.neuron):\n",
    "            dWeights[i] = dWeights[0]\n",
    "        \n",
    "        self.new_dW = self.W - (dW * lr)\n",
    "        self.new_weights = pd.DataFrame(weights) - (dWeights * lr)\n",
    "        self.new_bias = bias - (ou_and_bias * lr)\n",
    "        self.new_theta = self.t - (dthet * lr)\n",
    "        self.new_kappa = self.k - (dkappa * lr)\n",
    "        dthet\n",
    "        \n",
    "        "
   ]
  },
  {
   "cell_type": "code",
   "execution_count": null,
   "metadata": {
    "scrolled": true
   },
   "outputs": [],
   "source": [
    "y1 = t['resp']\n",
    "t = t[features]"
   ]
  },
  {
   "cell_type": "code",
   "execution_count": null,
   "metadata": {},
   "outputs": [],
   "source": [
    "for i in t.columns:\n",
    "    t[i] = t[i].fillna(t[i].mean())"
   ]
  },
  {
   "cell_type": "code",
   "execution_count": null,
   "metadata": {
    "scrolled": false
   },
   "outputs": [],
   "source": [
    "ou = OU_Activation()\n",
    "d = dense_layer(130,100)\n",
    "d.forward(t)\n",
    "\n",
    "SDE = ou.ou_process(d.output)\n",
    "\n",
    "b = ou.backwards(weights=d.weight, a=y1,p=SDE[0], bias=d.bias, inputs=t)\n",
    "\n",
    "output = np.dot(t, ou.new_weights) + ou.new_bias\n",
    "y_pred = []\n",
    "\n",
    "std_dt = np.sqrt( ou.s**2 /(2*ou.k) * (1-np.exp(-2*ou.k*ou.dt)) )\n",
    "for t in range(0,ou.n-1):\n",
    "    p = ou.t + np.exp(-ou.k*ou.dt) * (output[t]-ou.t) + std_dt * ou.new_dW[:, t]\n",
    "    y_pred.append(p)\n",
    "y_pred = pd.DataFrame(y_pred)"
   ]
  },
  {
   "cell_type": "code",
   "execution_count": null,
   "metadata": {
    "scrolled": true
   },
   "outputs": [],
   "source": [
    "y_pred"
   ]
  },
  {
   "cell_type": "code",
   "execution_count": null,
   "metadata": {
    "scrolled": true
   },
   "outputs": [],
   "source": []
  },
  {
   "cell_type": "code",
   "execution_count": null,
   "metadata": {},
   "outputs": [],
   "source": [
    "plt.plot(y_pred[0])"
   ]
  },
  {
   "cell_type": "code",
   "execution_count": null,
   "metadata": {},
   "outputs": [],
   "source": []
  },
  {
   "cell_type": "code",
   "execution_count": null,
   "metadata": {},
   "outputs": [],
   "source": []
  }
 ],
 "metadata": {
  "kernelspec": {
   "display_name": "Python 3",
   "language": "python",
   "name": "python3"
  },
  "language_info": {
   "codemirror_mode": {
    "name": "ipython",
    "version": 3
   },
   "file_extension": ".py",
   "mimetype": "text/x-python",
   "name": "python",
   "nbconvert_exporter": "python",
   "pygments_lexer": "ipython3",
   "version": "3.7.3"
  }
 },
 "nbformat": 4,
 "nbformat_minor": 2
}
